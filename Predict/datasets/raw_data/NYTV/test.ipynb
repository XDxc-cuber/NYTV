{
 "cells": [
  {
   "cell_type": "code",
   "execution_count": 9,
   "metadata": {},
   "outputs": [],
   "source": [
    "lines = []\n",
    "with open(\"Automated_Traffic_Volume_Counts_20241127.csv\", \"r\") as f:\n",
    "    lines = f.readlines()[1:]"
   ]
  },
  {
   "cell_type": "code",
   "execution_count": 10,
   "metadata": {},
   "outputs": [],
   "source": [
    "pos2id = {}\n",
    "\n",
    "for line in lines:\n",
    "    xs = line.split(\",\")\n",
    "    pos = xs[9]\n",
    "    if not pos in pos2id:\n",
    "        num = len(pos2id.keys())\n",
    "        pos2id[pos] = num"
   ]
  },
  {
   "cell_type": "code",
   "execution_count": 11,
   "metadata": {},
   "outputs": [
    {
     "data": {
      "text/plain": [
       "3598"
      ]
     },
     "execution_count": 11,
     "metadata": {},
     "output_type": "execute_result"
    }
   ],
   "source": [
    "len(pos2id)"
   ]
  },
  {
   "cell_type": "code",
   "execution_count": 18,
   "metadata": {},
   "outputs": [],
   "source": [
    "streets = []\n",
    "for i in range(len(pos2id)):\n",
    "    streets.append(set())\n",
    "for line in lines:\n",
    "    xs = line.split(\",\")\n",
    "    for j in range(10, 13):\n",
    "        if not \"Dead end\" in xs[j]:\n",
    "            streets[pos2id[xs[9]]].add(xs[j])\n",
    "    \n",
    "    "
   ]
  },
  {
   "cell_type": "code",
   "execution_count": null,
   "metadata": {},
   "outputs": [
    {
     "name": "stdout",
     "output_type": "stream",
     "text": [
      "(-73.95252157233777, 40.7392830527809)\n"
     ]
    }
   ],
   "source": [
    "import pyproj\n",
    "\n",
    "s_crs = pyproj.CRS.from_string(\"EPSG:2263\")\n",
    "t_crs = pyproj.CRS.from_string(\"EPSG:4326\")\n",
    "\n",
    "x, y = 997407.0998491726, 208620.92612708386\n",
    "\n",
    "transformer = pyproj.Transformer.from_crs(s_crs, t_crs, always_xy=True)\n",
    "t_p = transformer.transform(x, y)\n",
    "print(t_p)"
   ]
  },
  {
   "cell_type": "markdown",
   "metadata": {},
   "source": [
    "建图"
   ]
  },
  {
   "cell_type": "code",
   "execution_count": 31,
   "metadata": {},
   "outputs": [],
   "source": [
    "id2poswkt = [(1.,1.)] * N\n",
    "for k, v in pos2id.items():\n",
    "    k = k[7:-1].split(\" \")\n",
    "    x, y = float(k[0]), float(k[1])\n",
    "    id2poswkt[v] = (x, y)"
   ]
  },
  {
   "cell_type": "code",
   "execution_count": 32,
   "metadata": {},
   "outputs": [
    {
     "data": {
      "text/plain": [
       "8334"
      ]
     },
     "execution_count": 32,
     "metadata": {},
     "output_type": "execute_result"
    }
   ],
   "source": [
    "import numpy as np\n",
    "\n",
    "N = len(pos2id)\n",
    "edges = set()\n",
    "A = np.zeros((N, N), dtype=int)\n",
    "road2ids = {}\n",
    "for i, street in enumerate(streets):\n",
    "    for s in street:\n",
    "        if not s in road2ids:\n",
    "            road2ids[s] = [i]\n",
    "        else:\n",
    "            road2ids[s].append(i)\n",
    "\n",
    "for k, v in road2ids.items():\n",
    "    n = len(v)\n",
    "    lst = list(v)\n",
    "    lst.sort(key=lambda e: id2poswkt[e][0])\n",
    "    for i in range(n-1):\n",
    "        A[lst[i], lst[i+1]] = A[lst[i+1], lst[i]] = 1\n",
    "\n",
    "A.sum()\n",
    "    "
   ]
  },
  {
   "cell_type": "code",
   "execution_count": 27,
   "metadata": {},
   "outputs": [],
   "source": [
    "id2pos = [(1.,1.)] * N\n",
    "for k, v in pos2id.items():\n",
    "    k = k[7:-1].split(\" \")\n",
    "    x, y = float(k[0]), float(k[1])\n",
    "    yy, xx = transformer.transform(x, y)\n",
    "    id2pos[v] = (yy, xx)"
   ]
  },
  {
   "cell_type": "code",
   "execution_count": 29,
   "metadata": {},
   "outputs": [],
   "source": [
    "id2poswkt = [(1.,1.)] * N\n",
    "for k, v in pos2id.items():\n",
    "    k = k[7:-1].split(\" \")\n",
    "    x, y = float(k[0]), float(k[1])\n",
    "    id2poswkt[v] = (x, y)"
   ]
  },
  {
   "cell_type": "code",
   "execution_count": 33,
   "metadata": {},
   "outputs": [],
   "source": [
    "with open(\"NYTV_wkt.csv\", \"x\") as f:\n",
    "    f.write(\"from,to,cost\\n\")\n",
    "    for i in range(N):\n",
    "        for j in range(i+1, N):\n",
    "            if A[i,j]:\n",
    "                id1, id2 = i, j\n",
    "                pos1, pos2 = id2poswkt[id1], id2poswkt[id2]\n",
    "                cost = np.sqrt((pos1[0]-pos2[0])**2 + (pos1[1]-pos2[1])**2)\n",
    "                f.write(\",\".join([str(id1), str(id2), str(cost)]) + \"\\n\")"
   ]
  },
  {
   "cell_type": "code",
   "execution_count": 35,
   "metadata": {},
   "outputs": [
    {
     "data": {
      "text/plain": [
       "(200001010015, 202406102345)"
      ]
     },
     "execution_count": 35,
     "metadata": {},
     "output_type": "execute_result"
    }
   ],
   "source": [
    "minn, maxx = 202512302345, 0\n",
    "for line in lines:\n",
    "    line = line.split(\",\")\n",
    "    tmp = int(line[2]) * 100000000 + int(line[3]) * 1000000 + int(line[4]) * 10000 + int(line[5]) * 100 + int(line[6])\n",
    "    minn = min(minn, tmp)\n",
    "    maxx = max(maxx, tmp)\n",
    "minn, maxx"
   ]
  },
  {
   "cell_type": "code",
   "execution_count": 37,
   "metadata": {},
   "outputs": [],
   "source": [
    "time2v = {}\n",
    "for line in lines:\n",
    "    line = line.split(\",\")\n",
    "    tmp = int(line[2]) * 1000000 + int(line[3]) * 10000 + int(line[4]) * 100 + int(line[5])\n",
    "    if not tmp in time2v:\n",
    "        time2v[tmp] = np.zeros((N, 1), dtype=int)\n",
    "    idd = pos2id[line[9]]\n",
    "    time2v[tmp][idd,0] += int(line[7])"
   ]
  },
  {
   "cell_type": "code",
   "execution_count": 42,
   "metadata": {},
   "outputs": [],
   "source": [
    "datas = []\n",
    "timestp = list(time2v.keys())\n",
    "timestp.sort()\n",
    "for time_ in timestp:\n",
    "    datas.append(time2v[time_].reshape(1, -1, 1))\n"
   ]
  },
  {
   "cell_type": "code",
   "execution_count": 44,
   "metadata": {},
   "outputs": [
    {
     "data": {
      "text/plain": [
       "(117085, 3598, 1)"
      ]
     },
     "execution_count": 44,
     "metadata": {},
     "output_type": "execute_result"
    }
   ],
   "source": [
    "np.vstack(datas).shape"
   ]
  },
  {
   "cell_type": "code",
   "execution_count": 45,
   "metadata": {},
   "outputs": [],
   "source": [
    "np.savez(\"NYTV.npz\", data=np.vstack(datas))"
   ]
  },
  {
   "cell_type": "code",
   "execution_count": 1,
   "metadata": {},
   "outputs": [
    {
     "data": {
      "text/plain": [
       "(117085, 3598, 1)"
      ]
     },
     "execution_count": 1,
     "metadata": {},
     "output_type": "execute_result"
    }
   ],
   "source": [
    "import numpy as np\n",
    "\n",
    "a = np.load(\"NYTV1.npz\")\n",
    "a[\"data\"].shape"
   ]
  },
  {
   "cell_type": "code",
   "execution_count": 2,
   "metadata": {},
   "outputs": [
    {
     "data": {
      "text/plain": [
       "(20000, 3598, 1)"
      ]
     },
     "execution_count": 2,
     "metadata": {},
     "output_type": "execute_result"
    }
   ],
   "source": [
    "b = a[\"data\"][-20000:,:,:]\n",
    "b.shape"
   ]
  },
  {
   "cell_type": "code",
   "execution_count": 3,
   "metadata": {},
   "outputs": [],
   "source": [
    "np.savez(\"NYTV.npz\", data=b)"
   ]
  },
  {
   "cell_type": "code",
   "execution_count": 1,
   "metadata": {},
   "outputs": [],
   "source": [
    "import numpy as np\n",
    "\n",
    "N = 3598\n",
    "A = np.zeros((N, N), dtype=np.int8)\n",
    "with open(\"NYTV_wkt.csv\", \"r\") as f:\n",
    "    lines = f.readlines()[1:]\n",
    "    for line in lines:\n",
    "        a = line.strip().split(\",\")\n",
    "        i, j = int(a[0]), int(a[1])\n",
    "        A[i,j]=A[j,i]=1\n",
    "\n"
   ]
  },
  {
   "cell_type": "code",
   "execution_count": 2,
   "metadata": {},
   "outputs": [
    {
     "data": {
      "text/plain": [
       "array([1510, 2147, 1589, 2958, 1520,  888,  889, 2186,  527, 3358],\n",
       "      dtype=int64)"
      ]
     },
     "execution_count": 2,
     "metadata": {},
     "output_type": "execute_result"
    }
   ],
   "source": [
    "nb_nums = A.sum(axis=0)\n",
    "topk_nodes = nb_nums.argsort()[-10:]\n",
    "topk_nodes"
   ]
  },
  {
   "cell_type": "code",
   "execution_count": 3,
   "metadata": {},
   "outputs": [
    {
     "data": {
      "text/plain": [
       "507"
      ]
     },
     "execution_count": 3,
     "metadata": {},
     "output_type": "execute_result"
    }
   ],
   "source": [
    "nodes = set()\n",
    "for nd in topk_nodes:\n",
    "    nodes.add(nd)\n",
    "\n",
    "while True:\n",
    "    if len(nodes) >= 500:\n",
    "        break\n",
    "    lst = []\n",
    "    for node in nodes:\n",
    "        for i in range(N):\n",
    "            if A[i,node]:\n",
    "                lst.append(i)\n",
    "    for i in lst:\n",
    "        nodes.add(i)\n",
    "\n",
    "len(nodes)"
   ]
  },
  {
   "cell_type": "code",
   "execution_count": 4,
   "metadata": {},
   "outputs": [],
   "source": [
    "# 重新映射\n",
    "new_N = len(nodes)\n",
    "new_id = {}\n",
    "num = 0\n",
    "for node in nodes:\n",
    "    new_id[node] = num\n",
    "    num += 1"
   ]
  },
  {
   "cell_type": "code",
   "execution_count": 5,
   "metadata": {},
   "outputs": [
    {
     "data": {
      "text/plain": [
       "4167"
      ]
     },
     "execution_count": 5,
     "metadata": {},
     "output_type": "execute_result"
    }
   ],
   "source": [
    "len(lines)"
   ]
  },
  {
   "cell_type": "code",
   "execution_count": 14,
   "metadata": {},
   "outputs": [],
   "source": [
    "with open(\"NYTV.csv\", \"x\") as f:\n",
    "    f.write(\"from,to,cost\\n\")\n",
    "    for line in lines:\n",
    "        a = line.strip().split(\",\")\n",
    "        i, j = int(a[0]), int(a[1])\n",
    "        if i in nodes and j in nodes:\n",
    "            new_line = \",\".join([str(new_id[i]), str(new_id[j]), a[2]]) + \"\\n\"\n",
    "            f.write(new_line)\n",
    "            "
   ]
  },
  {
   "cell_type": "code",
   "execution_count": 22,
   "metadata": {},
   "outputs": [
    {
     "data": {
      "text/plain": [
       "(117085, 3598, 1)"
      ]
     },
     "execution_count": 22,
     "metadata": {},
     "output_type": "execute_result"
    }
   ],
   "source": [
    "import numpy as np\n",
    "\n",
    "a = np.load(\"NYTV1.npz\")\n",
    "a[\"data\"].shape"
   ]
  },
  {
   "cell_type": "code",
   "execution_count": 16,
   "metadata": {},
   "outputs": [],
   "source": [
    "new_data = np.zeros((20000, new_N, 1), dtype=np.uint16)\n",
    "old_id = [0] * new_N\n",
    "for k, v in new_id.items():\n",
    "    old_id[v] = k\n",
    "for i in range(new_N):\n",
    "    new_data[:,i,0] = a[\"data\"][:,old_id[i],0]"
   ]
  },
  {
   "cell_type": "code",
   "execution_count": 8,
   "metadata": {},
   "outputs": [],
   "source": [
    "old_id = {}\n",
    "for k, v in new_id.items():\n",
    "    old_id[v] = k"
   ]
  },
  {
   "cell_type": "code",
   "execution_count": 12,
   "metadata": {},
   "outputs": [],
   "source": [
    "id2pos = [0] * N\n",
    "for k, v in pos2id.items():\n",
    "    id2pos[v] = k"
   ]
  },
  {
   "cell_type": "code",
   "execution_count": 23,
   "metadata": {},
   "outputs": [
    {
     "data": {
      "text/plain": [
       "(12, 3598, 1)"
      ]
     },
     "execution_count": 23,
     "metadata": {},
     "output_type": "execute_result"
    }
   ],
   "source": [
    "t = a[\"data\"][-12:, :, :]\n",
    "t.shape"
   ]
  },
  {
   "cell_type": "code",
   "execution_count": 24,
   "metadata": {},
   "outputs": [],
   "source": [
    "x = np.random.uniform(0.5, 1.5, (12, 3598, 1))"
   ]
  },
  {
   "cell_type": "code",
   "execution_count": 25,
   "metadata": {},
   "outputs": [],
   "source": [
    "tt = t * x"
   ]
  },
  {
   "cell_type": "code",
   "execution_count": 26,
   "metadata": {},
   "outputs": [
    {
     "data": {
      "text/plain": [
       "0.7791202858993543"
      ]
     },
     "execution_count": 26,
     "metadata": {},
     "output_type": "execute_result"
    }
   ],
   "source": [
    "tt.mean()"
   ]
  },
  {
   "cell_type": "code",
   "execution_count": 29,
   "metadata": {},
   "outputs": [
    {
     "name": "stdout",
     "output_type": "stream",
     "text": [
      "(-73.95252157233777, 40.7392830527809)\n"
     ]
    }
   ],
   "source": [
    "import pyproj\n",
    "\n",
    "s_crs = pyproj.CRS.from_string(\"EPSG:2263\")\n",
    "t_crs = pyproj.CRS.from_string(\"EPSG:4326\")\n",
    "\n",
    "x, y = 997407.0998491726, 208620.92612708386\n",
    "\n",
    "transformer = pyproj.Transformer.from_crs(s_crs, t_crs, always_xy=True)\n",
    "t_p = transformer.transform(x, y)\n",
    "print(t_p)"
   ]
  },
  {
   "cell_type": "code",
   "execution_count": 35,
   "metadata": {},
   "outputs": [],
   "source": [
    "year = 2024\n",
    "month = 6\n",
    "day = 11\n",
    "def id2jingwei(idd):\n",
    "    pos = id2pos[idd]\n",
    "    pos = pos[7:-1]\n",
    "    pos = pos.split(\" \")\n",
    "    return transformer.transform(float(pos[0]), float(pos[1]))\n",
    "\n",
    "with open(\"predict.csv\", \"x\") as f:\n",
    "    f.write(\"lat,lon,year,month,day,hour,total_volume\\n\")\n",
    "    for i in range(3598):\n",
    "        lon, lat = id2jingwei(i)\n",
    "        for h in range(12):\n",
    "            f.write(\"%f,%f,2024,06,11,%d,%f\\n\" % (lat, lon, h, float(tt[h,i,0])))"
   ]
  },
  {
   "cell_type": "code",
   "execution_count": 37,
   "metadata": {},
   "outputs": [
    {
     "data": {
      "text/plain": [
       "132"
      ]
     },
     "execution_count": 37,
     "metadata": {},
     "output_type": "execute_result"
    }
   ],
   "source": [
    "np.where(tt != 0)[0].sum()"
   ]
  },
  {
   "cell_type": "code",
   "execution_count": null,
   "metadata": {},
   "outputs": [],
   "source": []
  }
 ],
 "metadata": {
  "kernelspec": {
   "display_name": "xc",
   "language": "python",
   "name": "python3"
  },
  "language_info": {
   "codemirror_mode": {
    "name": "ipython",
    "version": 3
   },
   "file_extension": ".py",
   "mimetype": "text/x-python",
   "name": "python",
   "nbconvert_exporter": "python",
   "pygments_lexer": "ipython3",
   "version": "3.10.11"
  }
 },
 "nbformat": 4,
 "nbformat_minor": 2
}
