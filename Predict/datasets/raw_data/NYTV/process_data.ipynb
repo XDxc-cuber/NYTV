{
 "cells": [
  {
   "cell_type": "code",
   "execution_count": 1,
   "metadata": {},
   "outputs": [
    {
     "name": "stdout",
     "output_type": "stream",
     "text": [
      "         lat        lon  year  month  day  hour  \\\n",
      "0  40.742603 -73.931600  2016      6   14     6   \n",
      "1  40.679654 -73.916394  2017     12   18    15   \n",
      "2  40.679654 -73.916394  2017     12   18    21   \n",
      "3  40.690691 -73.726744  2014      5   14    18   \n",
      "4  40.731659 -73.804528  2009     10    7    21   \n",
      "\n",
      "                           street  total_volume  avg_volume  \n",
      "0                       47 AVENUE            63       15.75  \n",
      "1               MAC DOUGAL STREET             0        0.00  \n",
      "2               MAC DOUGAL STREET             0        0.00  \n",
      "3                     LINDEN BLVD           814      203.50  \n",
      "4  E/B JEWEL AVE (E LEG) @ 164 ST            71       17.75  \n"
     ]
    }
   ],
   "source": [
    "import pandas as pd\n",
    "import numpy as np\n",
    "\n",
    "\n",
    "\n",
    "datas = pd.read_csv(\"processed_data_with_hour.csv\")\n",
    "print(datas.head())\n",
    "\n",
    "\n",
    "\n",
    "\n"
   ]
  },
  {
   "cell_type": "code",
   "execution_count": 4,
   "metadata": {},
   "outputs": [],
   "source": [
    "data_values = datas.values"
   ]
  },
  {
   "cell_type": "code",
   "execution_count": 5,
   "metadata": {},
   "outputs": [
    {
     "data": {
      "text/plain": [
       "array([40.742602533081175, -73.93159957486839, 2016, 6, 14, 6,\n",
       "       '47 AVENUE', 63, 15.75], dtype=object)"
      ]
     },
     "execution_count": 5,
     "metadata": {},
     "output_type": "execute_result"
    }
   ],
   "source": [
    "data_values[0]"
   ]
  },
  {
   "cell_type": "code",
   "execution_count": 6,
   "metadata": {},
   "outputs": [],
   "source": [
    "SHIFT = 500\n",
    "\n",
    "def position2key(pos1, pos2):\n",
    "    return (180 + pos1) * SHIFT + (180 + pos2)\n",
    "\n"
   ]
  },
  {
   "cell_type": "code",
   "execution_count": 7,
   "metadata": {},
   "outputs": [
    {
     "data": {
      "text/plain": [
       "395623"
      ]
     },
     "execution_count": 7,
     "metadata": {},
     "output_type": "execute_result"
    }
   ],
   "source": [
    "N = data_values.shape[0]\n",
    "N"
   ]
  },
  {
   "cell_type": "code",
   "execution_count": null,
   "metadata": {},
   "outputs": [],
   "source": [
    "num_nodes = 0\n",
    "street2id = {}\n",
    "key2node = {}\n",
    "\n",
    "for i in range(N):\n",
    "    key = position2key(data_values[0], data_values[1])\n",
    "    if key in key2node:\n",
    "        continue\n",
    "    else:\n",
    "        key2node[key] = num_nodes\n",
    "        num_nodes += 1\n",
    "        \n",
    "num_nodes"
   ]
  }
 ],
 "metadata": {
  "kernelspec": {
   "display_name": "xc",
   "language": "python",
   "name": "python3"
  },
  "language_info": {
   "codemirror_mode": {
    "name": "ipython",
    "version": 3
   },
   "file_extension": ".py",
   "mimetype": "text/x-python",
   "name": "python",
   "nbconvert_exporter": "python",
   "pygments_lexer": "ipython3",
   "version": "3.10.11"
  }
 },
 "nbformat": 4,
 "nbformat_minor": 2
}
