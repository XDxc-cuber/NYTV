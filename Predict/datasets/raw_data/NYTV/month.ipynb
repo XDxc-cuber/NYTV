{
 "cells": [
  {
   "cell_type": "code",
   "execution_count": 1,
   "metadata": {},
   "outputs": [],
   "source": [
    "import numpy as np"
   ]
  },
  {
   "cell_type": "code",
   "execution_count": 2,
   "metadata": {},
   "outputs": [],
   "source": [
    "lines = []\n",
    "with open(\"Automated_Traffic_Volume_Counts_20241127.csv\", \"r\") as f:\n",
    "    lines = f.readlines()[1:]"
   ]
  },
  {
   "cell_type": "code",
   "execution_count": 3,
   "metadata": {},
   "outputs": [],
   "source": [
    "pos2id = {}\n",
    "\n",
    "for line in lines:\n",
    "    xs = line.split(\",\")\n",
    "    pos = xs[9]\n",
    "    if not pos in pos2id:\n",
    "        num = len(pos2id.keys())\n",
    "        pos2id[pos] = num"
   ]
  },
  {
   "cell_type": "code",
   "execution_count": 4,
   "metadata": {},
   "outputs": [
    {
     "name": "stdout",
     "output_type": "stream",
     "text": [
      "(-73.95252157233777, 40.7392830527809)\n"
     ]
    }
   ],
   "source": [
    "import pyproj\n",
    "\n",
    "s_crs = pyproj.CRS.from_string(\"EPSG:2263\")\n",
    "t_crs = pyproj.CRS.from_string(\"EPSG:4326\")\n",
    "\n",
    "x, y = 997407.0998491726, 208620.92612708386\n",
    "\n",
    "transformer = pyproj.Transformer.from_crs(s_crs, t_crs, always_xy=True)\n",
    "t_p = transformer.transform(x, y)\n",
    "print(t_p)"
   ]
  },
  {
   "cell_type": "code",
   "execution_count": 7,
   "metadata": {},
   "outputs": [],
   "source": [
    "minn, maxx = 200001, 202405"
   ]
  },
  {
   "cell_type": "code",
   "execution_count": 8,
   "metadata": {},
   "outputs": [],
   "source": [
    "N = 3598\n",
    "time2v = {}\n",
    "for line in lines:\n",
    "    line = line.split(\",\")\n",
    "    tmp = int(line[2]) * 100 + int(line[3])\n",
    "    if not tmp in time2v:\n",
    "        time2v[tmp] = np.zeros((N, 1), dtype=int)\n",
    "    idd = pos2id[line[9]]\n",
    "    time2v[tmp][idd,0] += int(line[7])"
   ]
  },
  {
   "cell_type": "code",
   "execution_count": 9,
   "metadata": {},
   "outputs": [],
   "source": [
    "datas = []\n",
    "timestp = list(time2v.keys())\n",
    "timestp.sort()\n",
    "for time_ in timestp:\n",
    "    datas.append(time2v[time_].reshape(1, -1, 1))\n"
   ]
  },
  {
   "cell_type": "code",
   "execution_count": 12,
   "metadata": {},
   "outputs": [],
   "source": [
    "m_data = np.vstack(datas)"
   ]
  },
  {
   "cell_type": "code",
   "execution_count": 13,
   "metadata": {},
   "outputs": [
    {
     "data": {
      "text/plain": [
       "(197, 3598, 1)"
      ]
     },
     "execution_count": 13,
     "metadata": {},
     "output_type": "execute_result"
    }
   ],
   "source": [
    "m_data.shape"
   ]
  },
  {
   "cell_type": "code",
   "execution_count": 14,
   "metadata": {},
   "outputs": [],
   "source": [
    "np.savez(\"NYTV_month.npz\", data=m_data)"
   ]
  },
  {
   "cell_type": "code",
   "execution_count": 7,
   "metadata": {},
   "outputs": [],
   "source": [
    "import numpy as np\n",
    "\n",
    "N = 3598\n",
    "A = np.zeros((N, N), dtype=np.int8)\n",
    "with open(\"NYTV_wkt.csv\", \"r\") as f:\n",
    "    lines = f.readlines()[1:]\n",
    "    for line in lines:\n",
    "        a = line.strip().split(\",\")\n",
    "        i, j = int(a[0]), int(a[1])\n",
    "        A[i,j]=A[j,i]=1\n",
    "\n"
   ]
  },
  {
   "cell_type": "code",
   "execution_count": 8,
   "metadata": {},
   "outputs": [
    {
     "data": {
      "text/plain": [
       "507"
      ]
     },
     "execution_count": 8,
     "metadata": {},
     "output_type": "execute_result"
    }
   ],
   "source": [
    "N = 3598\n",
    "topk_nodes = [1510, 2147, 1589, 2958, 1520,  888,  889, 2186,  527, 3358]\n",
    "nodes = set()\n",
    "for nd in topk_nodes:\n",
    "    nodes.add(nd)\n",
    "\n",
    "while True:\n",
    "    if len(nodes) >= 500:\n",
    "        break\n",
    "    lst = []\n",
    "    for node in nodes:\n",
    "        for i in range(N):\n",
    "            if A[i,node]:\n",
    "                lst.append(i)\n",
    "    for i in lst:\n",
    "        nodes.add(i)\n",
    "\n",
    "len(nodes)"
   ]
  },
  {
   "cell_type": "code",
   "execution_count": 9,
   "metadata": {},
   "outputs": [],
   "source": [
    "# 重新映射\n",
    "new_N = len(nodes)\n",
    "new_id = {}\n",
    "num = 0\n",
    "for node in nodes:\n",
    "    new_id[node] = num\n",
    "    num += 1"
   ]
  },
  {
   "cell_type": "code",
   "execution_count": 10,
   "metadata": {},
   "outputs": [],
   "source": [
    "old_id = {}\n",
    "for k, v in new_id.items():\n",
    "    old_id[v] = k"
   ]
  },
  {
   "cell_type": "code",
   "execution_count": 21,
   "metadata": {},
   "outputs": [],
   "source": [
    "new_data = np.zeros((197, new_N, 1), dtype=np.uint16)\n",
    "old_id = [0] * new_N\n",
    "for k, v in new_id.items():\n",
    "    old_id[v] = k\n",
    "for i in range(new_N):\n",
    "    new_data[:,i,0] = m_data[:,old_id[i],0]"
   ]
  },
  {
   "cell_type": "code",
   "execution_count": 22,
   "metadata": {},
   "outputs": [
    {
     "data": {
      "text/plain": [
       "(197, 507, 1)"
      ]
     },
     "execution_count": 22,
     "metadata": {},
     "output_type": "execute_result"
    }
   ],
   "source": [
    "new_data.shape"
   ]
  },
  {
   "cell_type": "code",
   "execution_count": 23,
   "metadata": {},
   "outputs": [],
   "source": [
    "np.savez(\"NYTV_month_mini.npz\", data=new_data)"
   ]
  },
  {
   "cell_type": "code",
   "execution_count": 11,
   "metadata": {},
   "outputs": [
    {
     "data": {
      "text/plain": [
       "(12, 507, 1)"
      ]
     },
     "execution_count": 11,
     "metadata": {},
     "output_type": "execute_result"
    }
   ],
   "source": [
    "predict_month = np.load(\"predict_month_mini.npz\")[\"data\"]\n",
    "predict_month.shape"
   ]
  },
  {
   "cell_type": "code",
   "execution_count": 12,
   "metadata": {},
   "outputs": [],
   "source": [
    "id2pos = [0] * N\n",
    "for k, v in pos2id.items():\n",
    "    id2pos[v] = k"
   ]
  },
  {
   "cell_type": "code",
   "execution_count": 14,
   "metadata": {},
   "outputs": [],
   "source": [
    "times = [(\"2024\", \"06\"), (\"2024\", \"07\"), (\"2024\", \"08\"), (\"2024\", \"09\"), (\"2024\", \"10\"), (\"2024\", \"11\"), (\"2024\", \"12\"), (\"2025\", \"01\"), (\"2024\", \"02\"), (\"2024\", \"03\"), (\"2024\", \"04\"), (\"2025\", \"05\")]\n",
    "year = 2024\n",
    "month = 6\n",
    "day = 11\n",
    "def id2jingwei(idd):\n",
    "    pos = id2pos[idd]\n",
    "    pos = pos[7:-1]\n",
    "    pos = pos.split(\" \")\n",
    "    return transformer.transform(float(pos[0]), float(pos[1]))\n",
    "\n",
    "with open(\"predict_month.csv\", \"x\") as f:\n",
    "    f.write(\"lat,lon,year,month,day,hour,total_volume\\n\")\n",
    "    for i in range(507):\n",
    "        lon, lat = id2jingwei(old_id[i])\n",
    "        for j, t in enumerate(times):\n",
    "            f.write(\"%f,%f,%s,%s,1,0,%f\\n\" % (lat, lon, t[0], t[1], float(max(0, predict_month[j,i,0]))))"
   ]
  },
  {
   "cell_type": "code",
   "execution_count": 21,
   "metadata": {},
   "outputs": [],
   "source": [
    "a_lines = []\n",
    "with open(\"processed_data_with_hour.csv\", \"r\") as f:\n",
    "    a_lines = f.readlines()[1:]\n",
    "\n",
    "lonlats = []\n",
    "for i in range(507):\n",
    "    lon, lat = id2jingwei(old_id[i])\n",
    "    lonlats.append((lon, lat))\n",
    "\n",
    "with open(\"processed_data_with_hour_mini.csv\", \"x\") as f:\n",
    "    f.write(\"lat,lon,year,month,day,hour,street,total_volume,avg_volume\\n\")\n",
    "    for line in a_lines:\n",
    "        a_lon, a_lat = float(line.split(\",\")[1]), float(line.split(\",\")[0])\n",
    "        flag = False\n",
    "        for t in lonlats:\n",
    "            lon, lat = t\n",
    "            if a_lon - lon <= 1e-5 and a_lat - lat <= 1e-5:\n",
    "                flag = True\n",
    "                break\n",
    "        if flag:\n",
    "            f.write(line.strip() + \"\\n\")\n",
    "        \n"
   ]
  },
  {
   "cell_type": "code",
   "execution_count": null,
   "metadata": {},
   "outputs": [],
   "source": []
  }
 ],
 "metadata": {
  "kernelspec": {
   "display_name": "xc",
   "language": "python",
   "name": "python3"
  },
  "language_info": {
   "codemirror_mode": {
    "name": "ipython",
    "version": 3
   },
   "file_extension": ".py",
   "mimetype": "text/x-python",
   "name": "python",
   "nbconvert_exporter": "python",
   "pygments_lexer": "ipython3",
   "version": "3.10.11"
  }
 },
 "nbformat": 4,
 "nbformat_minor": 2
}
